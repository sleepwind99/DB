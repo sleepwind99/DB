{
 "cells": [
  {
   "cell_type": "code",
   "execution_count": 1,
   "id": "eee2a449",
   "metadata": {},
   "outputs": [],
   "source": [
    "import psycopg\n",
    "from psycopg import sql\n",
    "# change to your python code file name\n",
    "from project2_2018147558 import *\n",
    "\n",
    "HOST = 'localhost'\n",
    "DBNAME = 'mydbase'\n",
    "USER = 'postgres'\n",
    "PASSWORD = '8520'\n",
    "\n",
    "CONNECTION = f\"host={HOST} dbname={DBNAME} user={USER} password={PASSWORD}\""
   ]
  },
  {
   "cell_type": "code",
   "execution_count": null,
   "id": "95e2d49c",
   "metadata": {},
   "outputs": [],
   "source": [
    "# create table\n",
    "# change 'my_path' to your path where create_table.sql file exist \n",
    "path =  './create_table.sql'\n",
    "\n",
    "execute_sql(CONNECTION, path)"
   ]
  },
  {
   "cell_type": "code",
   "execution_count": null,
   "id": "d1a74f5f",
   "metadata": {
    "scrolled": true
   },
   "outputs": [],
   "source": [
    "# insert_data\n",
    "# change 'my_path' to your path where insert_data.sql file exist \n",
    "path =  './insert_data.sql'\n",
    "\n",
    "execute_sql(CONNECTION, path)"
   ]
  },
  {
   "cell_type": "markdown",
   "id": "3eba5455",
   "metadata": {},
   "source": [
    "### entire_search(CONNECTION: str, table_name: str) -> Union[list, None]"
   ]
  },
  {
   "cell_type": "code",
   "execution_count": null,
   "id": "72ba9d64",
   "metadata": {},
   "outputs": [],
   "source": [
    "# search all data\n",
    "table_name = 'building'\n",
    "entire_search(CONNECTION=CONNECTION, table_name=table_name)"
   ]
  },
  {
   "cell_type": "markdown",
   "id": "8a33b8d6",
   "metadata": {},
   "source": [
    "### search_by_studentID(CONNECTION: str, student_id: str) -> Union[list, None]"
   ]
  },
  {
   "cell_type": "code",
   "execution_count": null,
   "id": "cfe7e991",
   "metadata": {},
   "outputs": [],
   "source": [
    "# search by student id\n",
    "student_id = '2017111111'\n",
    "search_by_studentID(CONNECTION=CONNECTION, student_id=student_id)"
   ]
  },
  {
   "cell_type": "markdown",
   "id": "bd374cbd",
   "metadata": {},
   "source": [
    "### search_by_studentname(CONNECTION: str, name: str) -> Union[list, None]"
   ]
  },
  {
   "cell_type": "code",
   "execution_count": null,
   "id": "e4598eff",
   "metadata": {},
   "outputs": [],
   "source": [
    "# search by student name\n",
    "student_name = 'An Yujin'\n",
    "search_by_studentname(CONNECTION, student_name)"
   ]
  },
  {
   "cell_type": "code",
   "execution_count": null,
   "id": "5aec8e43",
   "metadata": {},
   "outputs": [],
   "source": [
    "# search by student name with escape charator\n",
    "student_name = 'Kim%'\n",
    "search_by_studentname(CONNECTION, student_name)"
   ]
  },
  {
   "cell_type": "code",
   "execution_count": null,
   "id": "a85b2626",
   "metadata": {},
   "outputs": [],
   "source": [
    "student_name = '%young'\n",
    "search_by_studentname(CONNECTION, student_name)"
   ]
  },
  {
   "cell_type": "code",
   "execution_count": null,
   "id": "22e23ff8",
   "metadata": {},
   "outputs": [],
   "source": [
    "student_name = '%Ga%'\n",
    "search_by_studentname(CONNECTION, student_name)"
   ]
  },
  {
   "cell_type": "markdown",
   "id": "dc6a0110",
   "metadata": {},
   "source": [
    "### registration_history(CONNECTION: str, student_id: str) -> Union[list, None]"
   ]
  },
  {
   "cell_type": "code",
   "execution_count": null,
   "id": "39efe5b8",
   "metadata": {},
   "outputs": [],
   "source": [
    "# search registration history by student id\n",
    "student_id = '2017111111'\n",
    "registration_history(CONNECTION=CONNECTION, student_id=student_id)"
   ]
  },
  {
   "cell_type": "markdown",
   "id": "6756e417",
   "metadata": {},
   "source": [
    "### registration(CONNECTION: str, course_id: int, student_id: str) -> Union[list, None]"
   ]
  },
  {
   "cell_type": "code",
   "execution_count": null,
   "id": "947e3a49",
   "metadata": {},
   "outputs": [],
   "source": [
    "# registration course\n",
    "course_id = 12\n",
    "student_id = '2022111111'\n",
    "registration(CONNECTION=CONNECTION, course_id=course_id, student_id=student_id)"
   ]
  },
  {
   "cell_type": "markdown",
   "id": "dcaf32b5",
   "metadata": {},
   "source": [
    "### withdrawal_registration(CONNECTION: str, course_id: int, student_id: str) -> Union[list, None]"
   ]
  },
  {
   "cell_type": "code",
   "execution_count": null,
   "id": "1be367a3",
   "metadata": {},
   "outputs": [],
   "source": [
    "# withdrawal course\n",
    "course_id = 12\n",
    "student_id = '2022111111'\n",
    "withdrawal_registration(CONNECTION=CONNECTION, course_id=course_id, student_id=student_id)"
   ]
  },
  {
   "cell_type": "markdown",
   "id": "55dbef7a",
   "metadata": {},
   "source": [
    "### modify_lectureroom(CONNECTION: str, course_id: int, buildno: str, roomno: str) -> Union[list, None]"
   ]
  },
  {
   "cell_type": "code",
   "execution_count": 2,
   "id": "fe539d50",
   "metadata": {},
   "outputs": [
    {
     "data": {
      "text/plain": [
       "[(1, 2017, 1, 'CSI', '3105', 1, '데이터베이스', '1900011110', '공D', '504', 3, 40),\n",
       " (2, 2017, 2, 'CSI', '2103', 1, '자료구조', '1900011111', '공D', '401', 3, 40),\n",
       " (3, 2018, 1, 'CSI', '2111', 1, '논리회로설계', '1900011112', '공D', '402', 3, 40),\n",
       " (4, 2018, 2, 'CSI', '4108', 1, '인공지능', '1900011113', '공D', '405', 3, 40),\n",
       " (5, 2019, 1, 'CSI', '4116', 1, '컴퓨터비전', '1900011114', '공D', '403', 3, 40),\n",
       " (6, 2019, 2, 'CSI', '3108', 1, '알고리즘분석', '1900011115', '공D', '504', 3, 40),\n",
       " (7, 2020, 1, 'CSI', '4117', 1, '테이터마이닝', '1900011116', '공D', '404', 3, 40),\n",
       " (8, 2020, 2, 'CSI', '4121', 1, '빅데이터', '1900011117', '공D', '407', 3, 40),\n",
       " (9, 2021, 1, 'CSI', '3106', 1, '소프트웨어공학', '1900011118', '공D', '406', 3, 40),\n",
       " (10, 2021, 2, 'CSI', '4106', 1, '컴퓨터네트워크', '1900011119', '공D', '404', 3, 40),\n",
       " (11, 2022, 1, 'CSI', '2103', 1, '자료구조', '1900011111', '공D', '401', 3, 40),\n",
       " (12, 2022, 2, 'CSI', '3105', 1, '데이터베이스', '1900011110', '공D', '408', 3, 40)]"
      ]
     },
     "execution_count": 2,
     "metadata": {},
     "output_type": "execute_result"
    }
   ],
   "source": [
    "# modify lecture room\n",
    "course_id = 12\n",
    "buildno = '공D'\n",
    "roomno = '408'\n",
    "\n",
    "modify_lectureroom(CONNECTION=CONNECTION, course_id=course_id, buildno=buildno, roomno=roomno)"
   ]
  }
 ],
 "metadata": {
  "kernelspec": {
   "display_name": "Python 3.9.13 ('postgresql')",
   "language": "python",
   "name": "python3"
  },
  "language_info": {
   "codemirror_mode": {
    "name": "ipython",
    "version": 3
   },
   "file_extension": ".py",
   "mimetype": "text/x-python",
   "name": "python",
   "nbconvert_exporter": "python",
   "pygments_lexer": "ipython3",
   "version": "3.9.13"
  },
  "vscode": {
   "interpreter": {
    "hash": "8007f51919891b7177692767d4af2bc65a2cd4f6f77656fa1edd2cbba8b51e77"
   }
  }
 },
 "nbformat": 4,
 "nbformat_minor": 5
}
